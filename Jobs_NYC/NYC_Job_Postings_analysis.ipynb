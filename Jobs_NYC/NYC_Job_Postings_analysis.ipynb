{
 "cells": [
  {
   "cell_type": "markdown",
   "id": "422e19c6-093e-4bb4-8f00-616deb0b208d",
   "metadata": {},
   "source": [
    "Source: https://catalog.data.gov/dataset/nyc-jobs"
   ]
  },
  {
   "cell_type": "code",
   "execution_count": 10,
   "id": "3a9d6c92-e84f-4d56-9c6e-448502b3f467",
   "metadata": {},
   "outputs": [],
   "source": [
    "import dash\n",
    "from dash import dcc, html, Input, Output\n",
    "import pandas as pd\n",
    "import plotly.graph_objects as go"
   ]
  },
  {
   "cell_type": "code",
   "execution_count": 11,
   "id": "8d0d50bf-fec8-43b6-88f4-ce488dcb80b3",
   "metadata": {},
   "outputs": [
    {
     "ename": "EmptyDataError",
     "evalue": "No columns to parse from file",
     "output_type": "error",
     "traceback": [
      "\u001b[1;31m---------------------------------------------------------------------------\u001b[0m",
      "\u001b[1;31mEmptyDataError\u001b[0m                            Traceback (most recent call last)",
      "Cell \u001b[1;32mIn[11], line 1\u001b[0m\n\u001b[1;32m----> 1\u001b[0m df \u001b[38;5;241m=\u001b[39m \u001b[43mpd\u001b[49m\u001b[38;5;241;43m.\u001b[39;49m\u001b[43mread_csv\u001b[49m\u001b[43m(\u001b[49m\u001b[38;5;124;43m\"\u001b[39;49m\u001b[38;5;124;43mhttps://raw.githubusercontent.com/MollenFerneus/Portfolio-Projects/refs/heads/main/Jobs_NYC/Jobs_NYC_Postings.csv\u001b[39;49m\u001b[38;5;124;43m\"\u001b[39;49m\u001b[43m,\u001b[49m\u001b[43m \u001b[49m\u001b[43mindex_col\u001b[49m\u001b[38;5;241;43m=\u001b[39;49m\u001b[38;5;241;43m0\u001b[39;49m\u001b[43m)\u001b[49m\n\u001b[0;32m      2\u001b[0m df\u001b[38;5;241m.\u001b[39mhead()\n",
      "File \u001b[1;32mZ:\\Apps\\Python\\Lib\\site-packages\\pandas\\io\\parsers\\readers.py:1026\u001b[0m, in \u001b[0;36mread_csv\u001b[1;34m(filepath_or_buffer, sep, delimiter, header, names, index_col, usecols, dtype, engine, converters, true_values, false_values, skipinitialspace, skiprows, skipfooter, nrows, na_values, keep_default_na, na_filter, verbose, skip_blank_lines, parse_dates, infer_datetime_format, keep_date_col, date_parser, date_format, dayfirst, cache_dates, iterator, chunksize, compression, thousands, decimal, lineterminator, quotechar, quoting, doublequote, escapechar, comment, encoding, encoding_errors, dialect, on_bad_lines, delim_whitespace, low_memory, memory_map, float_precision, storage_options, dtype_backend)\u001b[0m\n\u001b[0;32m   1013\u001b[0m kwds_defaults \u001b[38;5;241m=\u001b[39m _refine_defaults_read(\n\u001b[0;32m   1014\u001b[0m     dialect,\n\u001b[0;32m   1015\u001b[0m     delimiter,\n\u001b[1;32m   (...)\u001b[0m\n\u001b[0;32m   1022\u001b[0m     dtype_backend\u001b[38;5;241m=\u001b[39mdtype_backend,\n\u001b[0;32m   1023\u001b[0m )\n\u001b[0;32m   1024\u001b[0m kwds\u001b[38;5;241m.\u001b[39mupdate(kwds_defaults)\n\u001b[1;32m-> 1026\u001b[0m \u001b[38;5;28;01mreturn\u001b[39;00m \u001b[43m_read\u001b[49m\u001b[43m(\u001b[49m\u001b[43mfilepath_or_buffer\u001b[49m\u001b[43m,\u001b[49m\u001b[43m \u001b[49m\u001b[43mkwds\u001b[49m\u001b[43m)\u001b[49m\n",
      "File \u001b[1;32mZ:\\Apps\\Python\\Lib\\site-packages\\pandas\\io\\parsers\\readers.py:620\u001b[0m, in \u001b[0;36m_read\u001b[1;34m(filepath_or_buffer, kwds)\u001b[0m\n\u001b[0;32m    617\u001b[0m _validate_names(kwds\u001b[38;5;241m.\u001b[39mget(\u001b[38;5;124m\"\u001b[39m\u001b[38;5;124mnames\u001b[39m\u001b[38;5;124m\"\u001b[39m, \u001b[38;5;28;01mNone\u001b[39;00m))\n\u001b[0;32m    619\u001b[0m \u001b[38;5;66;03m# Create the parser.\u001b[39;00m\n\u001b[1;32m--> 620\u001b[0m parser \u001b[38;5;241m=\u001b[39m \u001b[43mTextFileReader\u001b[49m\u001b[43m(\u001b[49m\u001b[43mfilepath_or_buffer\u001b[49m\u001b[43m,\u001b[49m\u001b[43m \u001b[49m\u001b[38;5;241;43m*\u001b[39;49m\u001b[38;5;241;43m*\u001b[39;49m\u001b[43mkwds\u001b[49m\u001b[43m)\u001b[49m\n\u001b[0;32m    622\u001b[0m \u001b[38;5;28;01mif\u001b[39;00m chunksize \u001b[38;5;129;01mor\u001b[39;00m iterator:\n\u001b[0;32m    623\u001b[0m     \u001b[38;5;28;01mreturn\u001b[39;00m parser\n",
      "File \u001b[1;32mZ:\\Apps\\Python\\Lib\\site-packages\\pandas\\io\\parsers\\readers.py:1620\u001b[0m, in \u001b[0;36mTextFileReader.__init__\u001b[1;34m(self, f, engine, **kwds)\u001b[0m\n\u001b[0;32m   1617\u001b[0m     \u001b[38;5;28mself\u001b[39m\u001b[38;5;241m.\u001b[39moptions[\u001b[38;5;124m\"\u001b[39m\u001b[38;5;124mhas_index_names\u001b[39m\u001b[38;5;124m\"\u001b[39m] \u001b[38;5;241m=\u001b[39m kwds[\u001b[38;5;124m\"\u001b[39m\u001b[38;5;124mhas_index_names\u001b[39m\u001b[38;5;124m\"\u001b[39m]\n\u001b[0;32m   1619\u001b[0m \u001b[38;5;28mself\u001b[39m\u001b[38;5;241m.\u001b[39mhandles: IOHandles \u001b[38;5;241m|\u001b[39m \u001b[38;5;28;01mNone\u001b[39;00m \u001b[38;5;241m=\u001b[39m \u001b[38;5;28;01mNone\u001b[39;00m\n\u001b[1;32m-> 1620\u001b[0m \u001b[38;5;28mself\u001b[39m\u001b[38;5;241m.\u001b[39m_engine \u001b[38;5;241m=\u001b[39m \u001b[38;5;28;43mself\u001b[39;49m\u001b[38;5;241;43m.\u001b[39;49m\u001b[43m_make_engine\u001b[49m\u001b[43m(\u001b[49m\u001b[43mf\u001b[49m\u001b[43m,\u001b[49m\u001b[43m \u001b[49m\u001b[38;5;28;43mself\u001b[39;49m\u001b[38;5;241;43m.\u001b[39;49m\u001b[43mengine\u001b[49m\u001b[43m)\u001b[49m\n",
      "File \u001b[1;32mZ:\\Apps\\Python\\Lib\\site-packages\\pandas\\io\\parsers\\readers.py:1898\u001b[0m, in \u001b[0;36mTextFileReader._make_engine\u001b[1;34m(self, f, engine)\u001b[0m\n\u001b[0;32m   1895\u001b[0m     \u001b[38;5;28;01mraise\u001b[39;00m \u001b[38;5;167;01mValueError\u001b[39;00m(msg)\n\u001b[0;32m   1897\u001b[0m \u001b[38;5;28;01mtry\u001b[39;00m:\n\u001b[1;32m-> 1898\u001b[0m     \u001b[38;5;28;01mreturn\u001b[39;00m \u001b[43mmapping\u001b[49m\u001b[43m[\u001b[49m\u001b[43mengine\u001b[49m\u001b[43m]\u001b[49m\u001b[43m(\u001b[49m\u001b[43mf\u001b[49m\u001b[43m,\u001b[49m\u001b[43m \u001b[49m\u001b[38;5;241;43m*\u001b[39;49m\u001b[38;5;241;43m*\u001b[39;49m\u001b[38;5;28;43mself\u001b[39;49m\u001b[38;5;241;43m.\u001b[39;49m\u001b[43moptions\u001b[49m\u001b[43m)\u001b[49m\n\u001b[0;32m   1899\u001b[0m \u001b[38;5;28;01mexcept\u001b[39;00m \u001b[38;5;167;01mException\u001b[39;00m:\n\u001b[0;32m   1900\u001b[0m     \u001b[38;5;28;01mif\u001b[39;00m \u001b[38;5;28mself\u001b[39m\u001b[38;5;241m.\u001b[39mhandles \u001b[38;5;129;01mis\u001b[39;00m \u001b[38;5;129;01mnot\u001b[39;00m \u001b[38;5;28;01mNone\u001b[39;00m:\n",
      "File \u001b[1;32mZ:\\Apps\\Python\\Lib\\site-packages\\pandas\\io\\parsers\\c_parser_wrapper.py:93\u001b[0m, in \u001b[0;36mCParserWrapper.__init__\u001b[1;34m(self, src, **kwds)\u001b[0m\n\u001b[0;32m     90\u001b[0m \u001b[38;5;28;01mif\u001b[39;00m kwds[\u001b[38;5;124m\"\u001b[39m\u001b[38;5;124mdtype_backend\u001b[39m\u001b[38;5;124m\"\u001b[39m] \u001b[38;5;241m==\u001b[39m \u001b[38;5;124m\"\u001b[39m\u001b[38;5;124mpyarrow\u001b[39m\u001b[38;5;124m\"\u001b[39m:\n\u001b[0;32m     91\u001b[0m     \u001b[38;5;66;03m# Fail here loudly instead of in cython after reading\u001b[39;00m\n\u001b[0;32m     92\u001b[0m     import_optional_dependency(\u001b[38;5;124m\"\u001b[39m\u001b[38;5;124mpyarrow\u001b[39m\u001b[38;5;124m\"\u001b[39m)\n\u001b[1;32m---> 93\u001b[0m \u001b[38;5;28mself\u001b[39m\u001b[38;5;241m.\u001b[39m_reader \u001b[38;5;241m=\u001b[39m \u001b[43mparsers\u001b[49m\u001b[38;5;241;43m.\u001b[39;49m\u001b[43mTextReader\u001b[49m\u001b[43m(\u001b[49m\u001b[43msrc\u001b[49m\u001b[43m,\u001b[49m\u001b[43m \u001b[49m\u001b[38;5;241;43m*\u001b[39;49m\u001b[38;5;241;43m*\u001b[39;49m\u001b[43mkwds\u001b[49m\u001b[43m)\u001b[49m\n\u001b[0;32m     95\u001b[0m \u001b[38;5;28mself\u001b[39m\u001b[38;5;241m.\u001b[39munnamed_cols \u001b[38;5;241m=\u001b[39m \u001b[38;5;28mself\u001b[39m\u001b[38;5;241m.\u001b[39m_reader\u001b[38;5;241m.\u001b[39munnamed_cols\n\u001b[0;32m     97\u001b[0m \u001b[38;5;66;03m# error: Cannot determine type of 'names'\u001b[39;00m\n",
      "File \u001b[1;32mparsers.pyx:581\u001b[0m, in \u001b[0;36mpandas._libs.parsers.TextReader.__cinit__\u001b[1;34m()\u001b[0m\n",
      "\u001b[1;31mEmptyDataError\u001b[0m: No columns to parse from file"
     ]
    }
   ],
   "source": [
    "df = pd.read_csv(\"https://raw.githubusercontent.com/MollenFerneus/Portfolio-Projects/refs/heads/main/Jobs_NYC/Jobs_NYC_Postings.csv\", index_col=0)\n",
    "df.head()"
   ]
  },
  {
   "cell_type": "markdown",
   "id": "a79edefc-5166-4741-a1ef-998f8b92afda",
   "metadata": {},
   "source": [
    "<span style=\"background-color:yellow; font-size:20px;\">Remove unecessary data</span>"
   ]
  },
  {
   "cell_type": "code",
   "execution_count": 3,
   "id": "b598399c-d8a7-4dd9-8a0a-ed8123e16bef",
   "metadata": {},
   "outputs": [],
   "source": [
    "df = df[[\"Civil Service Title\", \"Full-Time/Part-Time indicator\", \"Career Level\", \"Salary Range From\", \"Salary Range To\", \"Salary Frequency\"]]"
   ]
  },
  {
   "cell_type": "code",
   "execution_count": 4,
   "id": "8d940ba3-76ad-487b-bbc8-4c12ab84901a",
   "metadata": {},
   "outputs": [
    {
     "data": {
      "text/html": [
       "<div>\n",
       "<style scoped>\n",
       "    .dataframe tbody tr th:only-of-type {\n",
       "        vertical-align: middle;\n",
       "    }\n",
       "\n",
       "    .dataframe tbody tr th {\n",
       "        vertical-align: top;\n",
       "    }\n",
       "\n",
       "    .dataframe thead th {\n",
       "        text-align: right;\n",
       "    }\n",
       "</style>\n",
       "<table border=\"1\" class=\"dataframe\">\n",
       "  <thead>\n",
       "    <tr style=\"text-align: right;\">\n",
       "      <th></th>\n",
       "      <th>Civil Service Title</th>\n",
       "      <th>Full-Time/Part-Time indicator</th>\n",
       "      <th>Career Level</th>\n",
       "      <th>Salary Range From</th>\n",
       "      <th>Salary Range To</th>\n",
       "      <th>Salary Frequency</th>\n",
       "    </tr>\n",
       "    <tr>\n",
       "      <th>Job ID</th>\n",
       "      <th></th>\n",
       "      <th></th>\n",
       "      <th></th>\n",
       "      <th></th>\n",
       "      <th></th>\n",
       "      <th></th>\n",
       "    </tr>\n",
       "  </thead>\n",
       "  <tbody>\n",
       "    <tr>\n",
       "      <th>596449</th>\n",
       "      <td>ASSOCIATE PROJECT MANAGER</td>\n",
       "      <td>F</td>\n",
       "      <td>Experienced (non-manager)</td>\n",
       "      <td>98470.0</td>\n",
       "      <td>133496.0</td>\n",
       "      <td>Annual</td>\n",
       "    </tr>\n",
       "    <tr>\n",
       "      <th>632978</th>\n",
       "      <td>ASSOCIATE PROJECT MANAGER</td>\n",
       "      <td>F</td>\n",
       "      <td>Experienced (non-manager)</td>\n",
       "      <td>74041.0</td>\n",
       "      <td>107227.0</td>\n",
       "      <td>Annual</td>\n",
       "    </tr>\n",
       "    <tr>\n",
       "      <th>648277</th>\n",
       "      <td>GARDENER</td>\n",
       "      <td>F</td>\n",
       "      <td>Experienced (non-manager)</td>\n",
       "      <td>48860.0</td>\n",
       "      <td>70321.0</td>\n",
       "      <td>Annual</td>\n",
       "    </tr>\n",
       "    <tr>\n",
       "      <th>679139</th>\n",
       "      <td>COMMUNITY ASSOCIATE</td>\n",
       "      <td>F</td>\n",
       "      <td>Experienced (non-manager)</td>\n",
       "      <td>43143.0</td>\n",
       "      <td>49615.0</td>\n",
       "      <td>Annual</td>\n",
       "    </tr>\n",
       "    <tr>\n",
       "      <th>644090</th>\n",
       "      <td>CUSTOMER INFORMATION REP</td>\n",
       "      <td>F</td>\n",
       "      <td>Experienced (non-manager)</td>\n",
       "      <td>40882.0</td>\n",
       "      <td>51500.0</td>\n",
       "      <td>Annual</td>\n",
       "    </tr>\n",
       "  </tbody>\n",
       "</table>\n",
       "</div>"
      ],
      "text/plain": [
       "              Civil Service Title Full-Time/Part-Time indicator  \\\n",
       "Job ID                                                            \n",
       "596449  ASSOCIATE PROJECT MANAGER                             F   \n",
       "632978  ASSOCIATE PROJECT MANAGER                             F   \n",
       "648277                   GARDENER                             F   \n",
       "679139        COMMUNITY ASSOCIATE                             F   \n",
       "644090   CUSTOMER INFORMATION REP                             F   \n",
       "\n",
       "                     Career Level  Salary Range From  Salary Range To  \\\n",
       "Job ID                                                                  \n",
       "596449  Experienced (non-manager)            98470.0         133496.0   \n",
       "632978  Experienced (non-manager)            74041.0         107227.0   \n",
       "648277  Experienced (non-manager)            48860.0          70321.0   \n",
       "679139  Experienced (non-manager)            43143.0          49615.0   \n",
       "644090  Experienced (non-manager)            40882.0          51500.0   \n",
       "\n",
       "       Salary Frequency  \n",
       "Job ID                   \n",
       "596449           Annual  \n",
       "632978           Annual  \n",
       "648277           Annual  \n",
       "679139           Annual  \n",
       "644090           Annual  "
      ]
     },
     "execution_count": 4,
     "metadata": {},
     "output_type": "execute_result"
    }
   ],
   "source": [
    "df.head()"
   ]
  },
  {
   "cell_type": "markdown",
   "id": "131c673b-54c3-474e-905b-d52a9933dee7",
   "metadata": {},
   "source": [
    "<span style=\"background-color:yellow; font-size:20px;\">Converting Daily and Hourly data into Annual</span>"
   ]
  },
  {
   "cell_type": "code",
   "execution_count": 5,
   "id": "28a9442b-7859-4e89-bfde-21554af2bcc5",
   "metadata": {},
   "outputs": [],
   "source": [
    "df.loc[df[\"Salary Frequency\"] == \"Hourly\", \"Salary Range From\"] *= 40 * 52\n",
    "df.loc[df[\"Salary Frequency\"] == \"Hourly\", \"Salary Range To\"] *= 40 * 52\n",
    "\n",
    "df.loc[df[\"Salary Frequency\"] == \"Daily\", \"Salary Range From\"] *= 5 * 52\n",
    "df.loc[df[\"Salary Frequency\"] == \"Daily\", \"Salary Range To\"] *= 5 * 52\n",
    "\n",
    "df[\"Salary Frequency\"] = \"Annual\""
   ]
  },
  {
   "cell_type": "markdown",
   "id": "6132077d-8f11-4651-b1fe-b3cfdccce11d",
   "metadata": {},
   "source": [
    "<span style=\"background-color:yellow; font-size:20px;\">Fills the empty data where minimum salary range is 0</span>"
   ]
  },
  {
   "cell_type": "code",
   "execution_count": 6,
   "id": "929ebe28-f4d7-4196-8f72-b6d6d660cd5e",
   "metadata": {},
   "outputs": [],
   "source": [
    "df[\"Salary Range From\"] = df.apply(\n",
    "    lambda row: row[\"Salary Range To\"] if row[\"Salary Range From\"] == 0 else row[\"Salary Range From\"], \n",
    "    axis=1\n",
    ")\n"
   ]
  },
  {
   "cell_type": "markdown",
   "id": "6882fdec-62be-486c-b4f1-a8fc7df2494c",
   "metadata": {},
   "source": [
    "<span style=\"background-color:yellow; font-size:20px;\">Groups salaries by Title, Experience and Employment type</span>"
   ]
  },
  {
   "cell_type": "code",
   "execution_count": 7,
   "id": "02678ebc-e109-4d87-9ee8-66756b33c3d0",
   "metadata": {},
   "outputs": [],
   "source": [
    "df_grouped = df.groupby([\"Civil Service Title\", \"Career Level\", \"Full-Time/Part-Time indicator\"]).agg({\n",
    "    \"Salary Range From\": \"min\",\n",
    "    \"Salary Range To\": \"max\"\n",
    "}).reset_index()\n",
    "df_grouped = df_grouped.sort_values(by=\"Salary Range From\", ascending = True)"
   ]
  },
  {
   "cell_type": "code",
   "execution_count": 8,
   "id": "96b2a049-f65e-4ca8-817a-26e5287b0a57",
   "metadata": {},
   "outputs": [
    {
     "data": {
      "text/html": [
       "\n",
       "        <iframe\n",
       "            width=\"100%\"\n",
       "            height=\"650\"\n",
       "            src=\"http://127.0.0.1:8050/\"\n",
       "            frameborder=\"0\"\n",
       "            allowfullscreen\n",
       "            \n",
       "        ></iframe>\n",
       "        "
      ],
      "text/plain": [
       "<IPython.lib.display.IFrame at 0x2ca6583f8c0>"
      ]
     },
     "metadata": {},
     "output_type": "display_data"
    }
   ],
   "source": [
    "app = dash.Dash(__name__)\n",
    "\n",
    "app.layout = html.Div([\n",
    "    html.H1(\"Salary Range by Employment Type\"),\n",
    "    \n",
    "    # Dropdown for Full-time or Part-time\n",
    "    dcc.Dropdown(\n",
    "        id=\"employment-type\",\n",
    "        options=[\n",
    "            {\"label\": \"Full-time\", \"value\": \"F\"},\n",
    "            {\"label\": \"Part-time\", \"value\": \"P\"}\n",
    "        ],\n",
    "        value=\"F\",  # Default to Full-time\n",
    "        clearable=False\n",
    "    ),\n",
    "\n",
    "    # Dropdown for Career Level\n",
    "    dcc.Dropdown(\n",
    "        id=\"career-level\",\n",
    "        options=[{\"label\": level, \"value\": level} for level in df_grouped[\"Career Level\"].unique()],\n",
    "        value=df_grouped[\"Career Level\"].unique()[0],  # Default to first level\n",
    "        clearable=False\n",
    "    ),\n",
    "\n",
    "    # New Dropdown for Biggest Discrepancies\n",
    "    dcc.Dropdown(\n",
    "        id=\"discrepancy-filter\",\n",
    "        options=[\n",
    "            {\"label\": \"All Jobs\", \"value\": \"all\"},\n",
    "            {\"label\": \"Top 20 Biggest Salary Gaps\", \"value\": \"top\"},\n",
    "            {\"label\": \"Bottom 20 Smallest Salary Gaps\", \"value\": \"bottom\"}\n",
    "        ],\n",
    "        value=\"all\",  # Default to showing all jobs\n",
    "        clearable=False\n",
    "    ),\n",
    "\n",
    "    # Search bar for job title filtering\n",
    "    dcc.Input(\n",
    "        id=\"title-search\",\n",
    "        type=\"text\",\n",
    "        placeholder=\"Search for a job title...\",\n",
    "        debounce=True\n",
    "    ),\n",
    "\n",
    "    # Graph output\n",
    "    dcc.Graph(id=\"salary-graph\")\n",
    "])\n",
    "\n",
    "# Callback to update the graph\n",
    "@app.callback(\n",
    "    Output(\"salary-graph\", \"figure\"),\n",
    "    [Input(\"employment-type\", \"value\"),\n",
    "     Input(\"career-level\", \"value\"),\n",
    "     Input(\"discrepancy-filter\", \"value\"),\n",
    "     Input(\"title-search\", \"value\")]\n",
    ")\n",
    "def update_graph(selected_type, selected_level, discrepancy_filter, search_query):\n",
    "    # Filter data\n",
    "    filtered_df = df_grouped[\n",
    "        (df_grouped[\"Full-Time/Part-Time indicator\"] == selected_type) &\n",
    "        (df_grouped[\"Career Level\"] == selected_level)\n",
    "    ].copy()  # Copy to avoid warnings\n",
    "\n",
    "    if search_query:\n",
    "        filtered_df = filtered_df[filtered_df[\"Civil Service Title\"].str.contains(search_query, case=False, na=False)]\n",
    "\n",
    "    if filtered_df.empty:\n",
    "        return go.Figure()\n",
    "\n",
    "    # Calculate salary discrepancy\n",
    "    filtered_df[\"Salary Gap\"] = filtered_df[\"Salary Range To\"] - filtered_df[\"Salary Range From\"]\n",
    "\n",
    "    # Apply discrepancy filter\n",
    "    if discrepancy_filter == \"top\":\n",
    "        filtered_df = filtered_df.nlargest(20, \"Salary Gap\").sort_values(by=\"Salary Range From\", ascending=True)  # Top 20 biggest gaps\n",
    "    elif discrepancy_filter == \"bottom\":\n",
    "        filtered_df = filtered_df.nsmallest(20, \"Salary Gap\").sort_values(by=\"Salary Range From\", ascending=True)  # Bottom 20 smallest gaps\n",
    "\n",
    "    num_bars = len(filtered_df)\n",
    "    height_per_bar = 35\n",
    "    min_height = 500\n",
    "    max_height = 2000\n",
    "    graph_height = max(min_height, min(num_bars * height_per_bar, max_height))\n",
    "\n",
    "    fig = go.Figure()\n",
    "\n",
    "    fig.add_trace(go.Bar(\n",
    "        y=filtered_df[\"Civil Service Title\"] + \" (\" + filtered_df[\"Career Level\"] + \")\",\n",
    "        x=filtered_df[\"Salary Range From\"],\n",
    "        name=\"Min Salary\",\n",
    "        marker_color=\"wheat\",\n",
    "        orientation=\"h\",\n",
    "        hovertext=[\n",
    "            f\"{title}<br>Min Salary: {int(min_sal):,}$\".replace(\",\", \" \")    \n",
    "            for title, min_sal in zip(filtered_df[\"Civil Service Title\"], filtered_df[\"Salary Range From\"])\n",
    "        ],\n",
    "        hoverinfo=\"text\" \n",
    "    ))\n",
    "\n",
    "    fig.add_trace(go.Bar(\n",
    "        y=filtered_df[\"Civil Service Title\"] + \" (\" + filtered_df[\"Career Level\"] + \")\",\n",
    "        x=filtered_df[\"Salary Range To\"] - filtered_df[\"Salary Range From\"],  \n",
    "        base=filtered_df[\"Salary Range From\"],  \n",
    "        name=\"Max Salary\",\n",
    "        marker_color=\"darkred\",\n",
    "        orientation=\"h\",\n",
    "        hovertext=[\n",
    "            f\"{title}<br>Max Salary: {int(max_sal):,}$\".replace(\",\", \" \")   \n",
    "            for title, max_sal in zip(filtered_df[\"Civil Service Title\"], filtered_df[\"Salary Range To\"])\n",
    "        ],\n",
    "        hoverinfo=\"text\"\n",
    "    ))\n",
    "\n",
    "    fig.update_layout(\n",
    "        title=f\"Salary Range for {'Full-time' if selected_type == 'F' else 'Part-time'} Jobs ({selected_level})\",\n",
    "        xaxis_title=\"Annual Salary ($)\",\n",
    "        yaxis_title=\"Job Title & Career Level\",\n",
    "        height=graph_height,\n",
    "        barmode=\"overlay\",\n",
    "        margin=dict(l=300, r=50, t=50, b=50),\n",
    "        yaxis=dict(\n",
    "            automargin=True,\n",
    "            tickfont=dict(size=max(10, min(20, 2000 / num_bars)))\n",
    "        )\n",
    "    )\n",
    "    \n",
    "    return fig\n",
    "\n",
    "# Run the app\n",
    "if __name__ == \"__main__\":\n",
    "    app.run_server(debug=True)\n"
   ]
  },
  {
   "cell_type": "code",
   "execution_count": null,
   "id": "c33ba6a8-0c43-456a-8cc1-326c75296f71",
   "metadata": {},
   "outputs": [],
   "source": []
  }
 ],
 "metadata": {
  "kernelspec": {
   "display_name": "Python 3 (ipykernel)",
   "language": "python",
   "name": "python3"
  },
  "language_info": {
   "codemirror_mode": {
    "name": "ipython",
    "version": 3
   },
   "file_extension": ".py",
   "mimetype": "text/x-python",
   "name": "python",
   "nbconvert_exporter": "python",
   "pygments_lexer": "ipython3",
   "version": "3.13.1"
  }
 },
 "nbformat": 4,
 "nbformat_minor": 5
}
