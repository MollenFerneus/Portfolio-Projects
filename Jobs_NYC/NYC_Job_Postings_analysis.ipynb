{
 "cells": [
  {
   "cell_type": "markdown",
   "id": "422e19c6-093e-4bb4-8f00-616deb0b208d",
   "metadata": {},
   "source": [
    "Source: https://catalog.data.gov/dataset/nyc-jobs"
   ]
  },
  {
   "cell_type": "code",
   "execution_count": null,
   "id": "3a9d6c92-e84f-4d56-9c6e-448502b3f467",
   "metadata": {},
   "outputs": [],
   "source": [
    "import dash\n",
    "from dash import dcc, html, Input, Output\n",
    "import plotly.express as px\n",
    "import pandas as pd\n",
    "import plotly.graph_objects as go"
   ]
  },
  {
   "cell_type": "code",
   "execution_count": null,
   "id": "8d0d50bf-fec8-43b6-88f4-ce488dcb80b3",
   "metadata": {},
   "outputs": [],
   "source": [
    "df = pd.read_csv(\"Jobs_NYC_Postings.csv\", index_col=0)\n",
    "df.head()"
   ]
  },
  {
   "cell_type": "markdown",
   "id": "a79edefc-5166-4741-a1ef-998f8b92afda",
   "metadata": {},
   "source": [
    "<span style=\"background-color:yellow; font-size:20px;\">Remove unecessary data</span>"
   ]
  },
  {
   "cell_type": "code",
   "execution_count": null,
   "id": "b598399c-d8a7-4dd9-8a0a-ed8123e16bef",
   "metadata": {},
   "outputs": [],
   "source": [
    "df = df[[\"Civil Service Title\", \"Full-Time/Part-Time indicator\", \"Career Level\", \"Salary Range From\", \"Salary Range To\", \"Salary Frequency\"]]"
   ]
  },
  {
   "cell_type": "code",
   "execution_count": null,
   "id": "8d940ba3-76ad-487b-bbc8-4c12ab84901a",
   "metadata": {},
   "outputs": [],
   "source": [
    "df.head()"
   ]
  },
  {
   "cell_type": "markdown",
   "id": "131c673b-54c3-474e-905b-d52a9933dee7",
   "metadata": {},
   "source": [
    "<span style=\"background-color:yellow; font-size:20px;\">Converting Daily and Hourly data into Annual</span>"
   ]
  },
  {
   "cell_type": "code",
   "execution_count": null,
   "id": "28a9442b-7859-4e89-bfde-21554af2bcc5",
   "metadata": {},
   "outputs": [],
   "source": [
    "df.loc[df[\"Salary Frequency\"] == \"Hourly\", \"Salary Range From\"] *= 40 * 52\n",
    "df.loc[df[\"Salary Frequency\"] == \"Hourly\", \"Salary Range To\"] *= 40 * 52\n",
    "\n",
    "df.loc[df[\"Salary Frequency\"] == \"Daily\", \"Salary Range From\"] *= 5 * 52\n",
    "df.loc[df[\"Salary Frequency\"] == \"Daily\", \"Salary Range To\"] *= 5 * 52\n",
    "\n",
    "df[\"Salary Frequency\"] = \"Annual\""
   ]
  },
  {
   "cell_type": "markdown",
   "id": "6132077d-8f11-4651-b1fe-b3cfdccce11d",
   "metadata": {},
   "source": [
    "<span style=\"background-color:yellow; font-size:20px;\">Fills the empty data where minimum salary range is 0</span>"
   ]
  },
  {
   "cell_type": "code",
   "execution_count": null,
   "id": "929ebe28-f4d7-4196-8f72-b6d6d660cd5e",
   "metadata": {},
   "outputs": [],
   "source": [
    "df[\"Salary Range From\"] = df.apply(\n",
    "    lambda row: row[\"Salary Range To\"] if row[\"Salary Range From\"] == 0 else row[\"Salary Range From\"], \n",
    "    axis=1\n",
    ")\n"
   ]
  },
  {
   "cell_type": "markdown",
   "id": "6882fdec-62be-486c-b4f1-a8fc7df2494c",
   "metadata": {},
   "source": [
    "<span style=\"background-color:yellow; font-size:20px;\">Groups salaries by Title, Experience and Employment type</span>"
   ]
  },
  {
   "cell_type": "code",
   "execution_count": null,
   "id": "02678ebc-e109-4d87-9ee8-66756b33c3d0",
   "metadata": {},
   "outputs": [],
   "source": [
    "df_grouped = df.groupby([\"Civil Service Title\", \"Career Level\", \"Full-Time/Part-Time indicator\"]).agg({\n",
    "    \"Salary Range From\": \"min\",\n",
    "    \"Salary Range To\": \"max\"\n",
    "}).reset_index()\n",
    "df_grouped = df_grouped.sort_values(by=\"Salary Range From\", ascending = True)"
   ]
  },
  {
   "cell_type": "code",
   "execution_count": null,
   "id": "96b2a049-f65e-4ca8-817a-26e5287b0a57",
   "metadata": {},
   "outputs": [],
   "source": [
    "app = dash.Dash(__name__)\n",
    "\n",
    "app.layout = html.Div([\n",
    "    html.H1(\"Salary Range by Employment Type\"),\n",
    "    \n",
    "    # Dropdown for Full-time or Part-time\n",
    "    dcc.Dropdown(\n",
    "        id=\"employment-type\",\n",
    "        options=[\n",
    "            {\"label\": \"Full-time\", \"value\": \"F\"},\n",
    "            {\"label\": \"Part-time\", \"value\": \"P\"}\n",
    "        ],\n",
    "        value=\"F\",  # Default to Full-time\n",
    "        clearable=False\n",
    "    ),\n",
    "\n",
    "    # Dropdown for Career Level\n",
    "    dcc.Dropdown(\n",
    "        id=\"career-level\",\n",
    "        options=[{\"label\": level, \"value\": level} for level in df_grouped[\"Career Level\"].unique()],\n",
    "        value=df_grouped[\"Career Level\"].unique()[0],  # Default to first level\n",
    "        clearable=False\n",
    "    ),\n",
    "\n",
    "    # New Dropdown for Biggest Discrepancies\n",
    "    dcc.Dropdown(\n",
    "        id=\"discrepancy-filter\",\n",
    "        options=[\n",
    "            {\"label\": \"All Jobs\", \"value\": \"all\"},\n",
    "            {\"label\": \"Top 20 Biggest Salary Gaps\", \"value\": \"top\"},\n",
    "            {\"label\": \"Bottom 20 Smallest Salary Gaps\", \"value\": \"bottom\"}\n",
    "        ],\n",
    "        value=\"all\",  # Default to showing all jobs\n",
    "        clearable=False\n",
    "    ),\n",
    "\n",
    "    # Search bar for job title filtering\n",
    "    dcc.Input(\n",
    "        id=\"title-search\",\n",
    "        type=\"text\",\n",
    "        placeholder=\"Search for a job title...\",\n",
    "        debounce=True\n",
    "    ),\n",
    "\n",
    "    # Graph output\n",
    "    dcc.Graph(id=\"salary-graph\")\n",
    "])\n",
    "\n",
    "# Callback to update the graph\n",
    "@app.callback(\n",
    "    Output(\"salary-graph\", \"figure\"),\n",
    "    [Input(\"employment-type\", \"value\"),\n",
    "     Input(\"career-level\", \"value\"),\n",
    "     Input(\"discrepancy-filter\", \"value\"),\n",
    "     Input(\"title-search\", \"value\")]\n",
    ")\n",
    "def update_graph(selected_type, selected_level, discrepancy_filter, search_query):\n",
    "    # Filter data\n",
    "    filtered_df = df_grouped[\n",
    "        (df_grouped[\"Full-Time/Part-Time indicator\"] == selected_type) &\n",
    "        (df_grouped[\"Career Level\"] == selected_level)\n",
    "    ].copy()  # Copy to avoid warnings\n",
    "\n",
    "    if search_query:\n",
    "        filtered_df = filtered_df[filtered_df[\"Civil Service Title\"].str.contains(search_query, case=False, na=False)]\n",
    "\n",
    "    if filtered_df.empty:\n",
    "        return go.Figure()\n",
    "\n",
    "    # Calculate salary discrepancy\n",
    "    filtered_df[\"Salary Gap\"] = filtered_df[\"Salary Range To\"] - filtered_df[\"Salary Range From\"]\n",
    "\n",
    "    # Apply discrepancy filter\n",
    "    if discrepancy_filter == \"top\":\n",
    "        filtered_df = filtered_df.nlargest(20, \"Salary Gap\").sort_values(by=\"Salary Range From\", ascending=True)  # Top 20 biggest gaps\n",
    "    elif discrepancy_filter == \"bottom\":\n",
    "        filtered_df = filtered_df.nsmallest(20, \"Salary Gap\").sort_values(by=\"Salary Range From\", ascending=True)  # Bottom 20 smallest gaps\n",
    "\n",
    "    num_bars = len(filtered_df)\n",
    "    height_per_bar = 35\n",
    "    min_height = 500\n",
    "    max_height = 2000\n",
    "    graph_height = max(min_height, min(num_bars * height_per_bar, max_height))\n",
    "\n",
    "    fig = go.Figure()\n",
    "\n",
    "    fig.add_trace(go.Bar(\n",
    "        y=filtered_df[\"Civil Service Title\"] + \" (\" + filtered_df[\"Career Level\"] + \")\",\n",
    "        x=filtered_df[\"Salary Range From\"],\n",
    "        name=\"Min Salary\",\n",
    "        marker_color=\"wheat\",\n",
    "        orientation=\"h\",\n",
    "        hovertext=[\n",
    "            f\"{title}<br>Min Salary: {int(min_sal):,}$\".replace(\",\", \" \")    \n",
    "            for title, min_sal in zip(filtered_df[\"Civil Service Title\"], filtered_df[\"Salary Range From\"])\n",
    "        ],\n",
    "        hoverinfo=\"text\" \n",
    "    ))\n",
    "\n",
    "    fig.add_trace(go.Bar(\n",
    "        y=filtered_df[\"Civil Service Title\"] + \" (\" + filtered_df[\"Career Level\"] + \")\",\n",
    "        x=filtered_df[\"Salary Range To\"] - filtered_df[\"Salary Range From\"],  \n",
    "        base=filtered_df[\"Salary Range From\"],  \n",
    "        name=\"Max Salary\",\n",
    "        marker_color=\"darkred\",\n",
    "        orientation=\"h\",\n",
    "        hovertext=[\n",
    "            f\"{title}<br>Max Salary: {int(max_sal):,}$\".replace(\",\", \" \")   \n",
    "            for title, max_sal in zip(filtered_df[\"Civil Service Title\"], filtered_df[\"Salary Range To\"])\n",
    "        ],\n",
    "        hoverinfo=\"text\"\n",
    "    ))\n",
    "\n",
    "    fig.update_layout(\n",
    "        title=f\"Salary Range for {'Full-time' if selected_type == 'F' else 'Part-time'} Jobs ({selected_level})\",\n",
    "        xaxis_title=\"Annual Salary ($)\",\n",
    "        yaxis_title=\"Job Title & Career Level\",\n",
    "        height=graph_height,\n",
    "        barmode=\"overlay\",\n",
    "        margin=dict(l=300, r=50, t=50, b=50),\n",
    "        yaxis=dict(\n",
    "            automargin=True,\n",
    "            tickfont=dict(size=max(10, min(20, 2000 / num_bars)))\n",
    "        )\n",
    "    )\n",
    "    \n",
    "    return fig\n",
    "\n",
    "# Run the app\n",
    "if __name__ == \"__main__\":\n",
    "    app.run_server(debug=True)\n"
   ]
  },
  {
   "cell_type": "code",
   "execution_count": null,
   "id": "c33ba6a8-0c43-456a-8cc1-326c75296f71",
   "metadata": {},
   "outputs": [],
   "source": []
  }
 ],
 "metadata": {
  "kernelspec": {
   "display_name": "Python 3 (ipykernel)",
   "language": "python",
   "name": "python3"
  },
  "language_info": {
   "codemirror_mode": {
    "name": "ipython",
    "version": 3
   },
   "file_extension": ".py",
   "mimetype": "text/x-python",
   "name": "python",
   "nbconvert_exporter": "python",
   "pygments_lexer": "ipython3",
   "version": "3.13.1"
  }
 },
 "nbformat": 4,
 "nbformat_minor": 5
}
